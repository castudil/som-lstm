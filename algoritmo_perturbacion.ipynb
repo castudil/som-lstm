{
  "nbformat": 4,
  "nbformat_minor": 0,
  "metadata": {
    "colab": {
      "name": "algoritmo-perturbacion.ipynb",
      "provenance": [],
      "toc_visible": true,
      "authorship_tag": "ABX9TyMzDqJV50iWCMic9nYKSDVL",
      "include_colab_link": true
    },
    "kernelspec": {
      "name": "python3",
      "display_name": "Python 3"
    },
    "language_info": {
      "name": "python"
    }
  },
  "cells": [
    {
      "cell_type": "markdown",
      "metadata": {
        "id": "view-in-github",
        "colab_type": "text"
      },
      "source": [
        "<a href=\"https://colab.research.google.com/github/castudil/som-lstm/blob/main/algoritmo_perturbacion.ipynb\" target=\"_parent\"><img src=\"https://colab.research.google.com/assets/colab-badge.svg\" alt=\"Open In Colab\"/></a>"
      ]
    },
    {
      "cell_type": "code",
      "metadata": {
        "id": "n5NkwUK-rtVh"
      },
      "source": [
        "import matplotlib.pyplot as plt\n",
        "import seaborn as sns\n",
        "import pandas as pd\n",
        "import numpy as np\n",
        "\n",
        "%matplotlib inline"
      ],
      "execution_count": 131,
      "outputs": []
    },
    {
      "cell_type": "markdown",
      "metadata": {
        "id": "iORhEBK-iFya"
      },
      "source": [
        "# Funcion de Perturbacion\n",
        "\n"
      ]
    },
    {
      "cell_type": "code",
      "metadata": {
        "id": "sJ8ikrZTkT8F"
      },
      "source": [
        "iris = sns.load_dataset(\"iris\")\n"
      ],
      "execution_count": 149,
      "outputs": []
    },
    {
      "cell_type": "code",
      "metadata": {
        "id": "jnPGijqliNbJ"
      },
      "source": [
        "def perturbation(df, col=0, mu=0, sigma=0.1):\n",
        "\n",
        "  \"\"\"\n",
        "    Funcion que perturba una columna de un dataframe, con una cantidad \n",
        "    normalmente distribuida con media 0 y desviación típica 0,1 por defecto.\n",
        "\n",
        "    Parameters\n",
        "        -----------\n",
        "        df : DataFrame \n",
        "          DataFrame de los datos para perturbar\n",
        "        col : int\n",
        "          columna del DataFrame que sera perturbada\n",
        "        mu: float\n",
        "          mean\n",
        "        sigma: float\n",
        "          desviacion estandar\n",
        "  \"\"\"\n",
        "  df = df.copy() # copia el dataframe para evitar que se modifique el dataframe original\n",
        "\n",
        "  cardinality = dataset.shape[0] # numero de instancias del dataset\n",
        "\n",
        "  # Toma muestras aleatorias de una distribución normal\n",
        "  perturbacion = pd.Series(np.random.normal(loc=mu, scale=sigma, size=cardinality))\n",
        "\n",
        "  columns_name  = df.columns # nombres de las columnas\n",
        "\n",
        "  # Suma las muestras aleatorias a la columna seleccionada y pasa esta suma al dataset copiado.\n",
        "  df[columns_name[col]] = df[columns_name[col]] + perturbacion  \n",
        "\n",
        "  return df"
      ],
      "execution_count": 178,
      "outputs": []
    },
    {
      "cell_type": "markdown",
      "metadata": {
        "id": "bUC-8BU4xmjC"
      },
      "source": [
        "## Test de perturbaciones "
      ]
    },
    {
      "cell_type": "code",
      "metadata": {
        "colab": {
          "base_uri": "https://localhost:8080/"
        },
        "id": "qVQd-XD_rxhk",
        "outputId": "bbb6df98-69ae-41f3-9abb-c3e643379e8b"
      },
      "source": [
        "p1 = perturbation(df=iris, col=0)\n",
        "\n",
        "print(p1.head())\n",
        "print(iris.head())\n",
        "\n"
      ],
      "execution_count": 179,
      "outputs": [
        {
          "output_type": "stream",
          "name": "stdout",
          "text": [
            "   sepal_length  sepal_width  petal_length  petal_width species\n",
            "0      4.917984          3.5           1.4          0.2  setosa\n",
            "1      4.915681          3.0           1.4          0.2  setosa\n",
            "2      4.661711          3.2           1.3          0.2  setosa\n",
            "3      4.566688          3.1           1.5          0.2  setosa\n",
            "4      4.909786          3.6           1.4          0.2  setosa\n",
            "   sepal_length  sepal_width  petal_length  petal_width species\n",
            "0           5.1          3.5           1.4          0.2  setosa\n",
            "1           4.9          3.0           1.4          0.2  setosa\n",
            "2           4.7          3.2           1.3          0.2  setosa\n",
            "3           4.6          3.1           1.5          0.2  setosa\n",
            "4           5.0          3.6           1.4          0.2  setosa\n"
          ]
        }
      ]
    },
    {
      "cell_type": "code",
      "metadata": {
        "colab": {
          "base_uri": "https://localhost:8080/"
        },
        "id": "qrE5TFortfiJ",
        "outputId": "25d6763b-26aa-4c62-e7b8-3b5bdc4dcecd"
      },
      "source": [
        "p2 = perturbation(iris, col=3)\n",
        "\n",
        "print(p2.head())\n",
        "print(iris.head())"
      ],
      "execution_count": 177,
      "outputs": [
        {
          "output_type": "stream",
          "name": "stdout",
          "text": [
            "   sepal_length  sepal_width  petal_length  petal_width species\n",
            "0           5.1          3.5           1.4     0.112949  setosa\n",
            "1           4.9          3.0           1.4     0.256411  setosa\n",
            "2           4.7          3.2           1.3     0.276237  setosa\n",
            "3           4.6          3.1           1.5     0.153464  setosa\n",
            "4           5.0          3.6           1.4     0.243559  setosa\n",
            "   sepal_length  sepal_width  petal_length  petal_width species\n",
            "0           5.1          3.5           1.4          0.2  setosa\n",
            "1           4.9          3.0           1.4          0.2  setosa\n",
            "2           4.7          3.2           1.3          0.2  setosa\n",
            "3           4.6          3.1           1.5          0.2  setosa\n",
            "4           5.0          3.6           1.4          0.2  setosa\n"
          ]
        }
      ]
    },
    {
      "cell_type": "markdown",
      "metadata": {
        "id": "J6egwWMyxykK"
      },
      "source": [
        "# Modelos"
      ]
    },
    {
      "cell_type": "markdown",
      "metadata": {
        "id": "EzncdsSSx87Q"
      },
      "source": [
        "## Cargar dataset"
      ]
    },
    {
      "cell_type": "code",
      "metadata": {
        "colab": {
          "base_uri": "https://localhost:8080/"
        },
        "id": "OE3eGzZOx4J5",
        "outputId": "78280c72-2832-45f5-9e90-2d99f0a0f562"
      },
      "source": [
        "path = 'https://raw.githubusercontent.com/castudil/som-lstm/main/data/talca.csv' # use your path\n",
        "\n",
        "df = pd.read_csv(path, index_col=None, header=0)\n",
        "# Convert the date column to a datestamp type\n",
        "df['date'] = pd.to_datetime(df['date'])\n",
        "# Set the date column as the index of your DataFrame meat\n",
        "df = df.set_index('date')\n",
        "\n",
        "print(df.sample(5))\n",
        "\n",
        "print(df.describe())\n"
      ],
      "execution_count": 187,
      "outputs": [
        {
          "output_type": "stream",
          "name": "stdout",
          "text": [
            "                       PM25\n",
            "date                       \n",
            "2017-02-09 22:00:00   7.227\n",
            "2017-09-04 05:00:00  17.000\n",
            "2018-01-09 04:00:00   3.000\n",
            "2020-05-08 00:00:00  52.000\n",
            "2019-02-03 02:00:00   5.000\n",
            "               PM25\n",
            "count  43847.000000\n",
            "mean      16.653470\n",
            "std       27.244984\n",
            "min        0.000000\n",
            "25%        3.000000\n",
            "50%        8.000000\n",
            "75%       19.000000\n",
            "max      766.200000\n"
          ]
        }
      ]
    },
    {
      "cell_type": "markdown",
      "metadata": {
        "id": "fbzrhE7Wx5GQ"
      },
      "source": [
        ""
      ]
    }
  ]
}