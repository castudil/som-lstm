{
  "nbformat": 4,
  "nbformat_minor": 0,
  "metadata": {
    "colab": {
      "name": "algoritmo-perturbacion.ipynb",
      "provenance": [],
      "toc_visible": true,
      "authorship_tag": "ABX9TyP4Ffwtgzddz5I2IlD/Obzj",
      "include_colab_link": true
    },
    "kernelspec": {
      "name": "python3",
      "display_name": "Python 3"
    },
    "language_info": {
      "name": "python"
    }
  },
  "cells": [
    {
      "cell_type": "markdown",
      "metadata": {
        "id": "view-in-github",
        "colab_type": "text"
      },
      "source": [
        "<a href=\"https://colab.research.google.com/github/castudil/som-lstm/blob/main/algoritmo_perturbacion.ipynb\" target=\"_parent\"><img src=\"https://colab.research.google.com/assets/colab-badge.svg\" alt=\"Open In Colab\"/></a>"
      ]
    },
    {
      "cell_type": "code",
      "metadata": {
        "id": "n5NkwUK-rtVh"
      },
      "source": [
        "import matplotlib.pyplot as plt\n",
        "import seaborn as sns\n",
        "import pandas as pd\n",
        "import numpy as np\n",
        "\n",
        "%matplotlib inline"
      ],
      "execution_count": 1,
      "outputs": []
    },
    {
      "cell_type": "markdown",
      "metadata": {
        "id": "iORhEBK-iFya"
      },
      "source": [
        "# Funcion de Perturbacion\n",
        "\n"
      ]
    },
    {
      "cell_type": "code",
      "metadata": {
        "id": "sJ8ikrZTkT8F"
      },
      "source": [
        "iris = sns.load_dataset(\"iris\")\n"
      ],
      "execution_count": 2,
      "outputs": []
    },
    {
      "cell_type": "code",
      "metadata": {
        "id": "jnPGijqliNbJ"
      },
      "source": [
        "def perturbation(df, col=0, mu=0, sigma=0.1):\n",
        "\n",
        "  \"\"\"\n",
        "    Funcion que perturba una columna de un dataframe, con una cantidad \n",
        "    normalmente distribuida con media 0 y desviación típica 0,1 por defecto.\n",
        "\n",
        "    Parameters\n",
        "        -----------\n",
        "        df : DataFrame \n",
        "          DataFrame de los datos para perturbar\n",
        "        col : int\n",
        "          columna del DataFrame que sera perturbada\n",
        "        mu: float\n",
        "          mean\n",
        "        sigma: float\n",
        "          desviacion estandar\n",
        "  \"\"\"\n",
        "  df = df.copy() # copia el dataframe para evitar que se modifique el dataframe original\n",
        "\n",
        "  cardinality = df.shape[0] # numero de instancias del dataset\n",
        "\n",
        "  # Toma muestras aleatorias de una distribución normal\n",
        "  perturbacion = pd.Series(np.random.normal(loc=mu, scale=sigma, size=cardinality))\n",
        "\n",
        "  columns_name  = df.columns # nombres de las columnas\n",
        "\n",
        "  # Suma las muestras aleatorias a la columna seleccionada y pasa esta suma al dataset copiado.\n",
        "  df[columns_name[col]] = df[columns_name[col]] + perturbacion  \n",
        "\n",
        "  return df"
      ],
      "execution_count": 142,
      "outputs": []
    },
    {
      "cell_type": "markdown",
      "metadata": {
        "id": "bUC-8BU4xmjC"
      },
      "source": [
        "## Test de perturbaciones "
      ]
    },
    {
      "cell_type": "code",
      "metadata": {
        "colab": {
          "base_uri": "https://localhost:8080/"
        },
        "id": "qVQd-XD_rxhk",
        "outputId": "c384f7a2-34ff-4e55-fd37-cf7d9131720d"
      },
      "source": [
        "p1 = perturbation(df=iris, col=0)\n",
        "\n",
        "print(p1.head())\n",
        "print(iris.head())\n",
        "\n"
      ],
      "execution_count": 4,
      "outputs": [
        {
          "output_type": "stream",
          "name": "stdout",
          "text": [
            "   sepal_length  sepal_width  petal_length  petal_width species\n",
            "0      4.964164          3.5           1.4          0.2  setosa\n",
            "1      4.777564          3.0           1.4          0.2  setosa\n",
            "2      4.691586          3.2           1.3          0.2  setosa\n",
            "3      4.636108          3.1           1.5          0.2  setosa\n",
            "4      4.985824          3.6           1.4          0.2  setosa\n",
            "   sepal_length  sepal_width  petal_length  petal_width species\n",
            "0           5.1          3.5           1.4          0.2  setosa\n",
            "1           4.9          3.0           1.4          0.2  setosa\n",
            "2           4.7          3.2           1.3          0.2  setosa\n",
            "3           4.6          3.1           1.5          0.2  setosa\n",
            "4           5.0          3.6           1.4          0.2  setosa\n"
          ]
        }
      ]
    },
    {
      "cell_type": "code",
      "metadata": {
        "colab": {
          "base_uri": "https://localhost:8080/"
        },
        "id": "qrE5TFortfiJ",
        "outputId": "8cf17b0c-5ceb-4e34-fb10-944c78b9970c"
      },
      "source": [
        "p2 = perturbation(iris, col=3)\n",
        "\n",
        "print(p2.head())\n",
        "print(iris.head())"
      ],
      "execution_count": 5,
      "outputs": [
        {
          "output_type": "stream",
          "name": "stdout",
          "text": [
            "   sepal_length  sepal_width  petal_length  petal_width species\n",
            "0           5.1          3.5           1.4     0.194136  setosa\n",
            "1           4.9          3.0           1.4     0.088625  setosa\n",
            "2           4.7          3.2           1.3     0.206258  setosa\n",
            "3           4.6          3.1           1.5     0.163317  setosa\n",
            "4           5.0          3.6           1.4     0.054001  setosa\n",
            "   sepal_length  sepal_width  petal_length  petal_width species\n",
            "0           5.1          3.5           1.4          0.2  setosa\n",
            "1           4.9          3.0           1.4          0.2  setosa\n",
            "2           4.7          3.2           1.3          0.2  setosa\n",
            "3           4.6          3.1           1.5          0.2  setosa\n",
            "4           5.0          3.6           1.4          0.2  setosa\n"
          ]
        }
      ]
    },
    {
      "cell_type": "markdown",
      "metadata": {
        "id": "J6egwWMyxykK"
      },
      "source": [
        "# Modelos"
      ]
    },
    {
      "cell_type": "markdown",
      "metadata": {
        "id": "EzncdsSSx87Q"
      },
      "source": [
        "## Cargar dataset"
      ]
    },
    {
      "cell_type": "code",
      "metadata": {
        "colab": {
          "base_uri": "https://localhost:8080/"
        },
        "id": "OE3eGzZOx4J5",
        "outputId": "9507dd60-528d-4b3c-9224-8056f342d892"
      },
      "source": [
        "path = 'https://raw.githubusercontent.com/castudil/som-lstm/main/data/talca.csv' # use your path\n",
        "\n",
        "df = pd.read_csv(path, index_col=None, header=0)\n",
        "# Convert the date column to a datestamp type\n",
        "df['date'] = pd.to_datetime(df['date'])\n",
        "# Set the date column as the index of your DataFrame meat\n",
        "df = df.set_index('date')\n",
        "\n",
        "print(df.sample(5))\n",
        "\n",
        "print(df.describe())\n"
      ],
      "execution_count": 60,
      "outputs": [
        {
          "output_type": "stream",
          "name": "stdout",
          "text": [
            "                        PM25\n",
            "date                        \n",
            "2018-04-11 13:00:00    1.000\n",
            "2019-02-16 13:00:00    5.000\n",
            "2019-07-26 15:00:00   20.000\n",
            "2017-01-27 19:00:00  277.000\n",
            "2016-02-15 07:00:00    7.842\n",
            "               PM25\n",
            "count  43847.000000\n",
            "mean      16.653470\n",
            "std       27.244984\n",
            "min        0.000000\n",
            "25%        3.000000\n",
            "50%        8.000000\n",
            "75%       19.000000\n",
            "max      766.200000\n"
          ]
        }
      ]
    },
    {
      "cell_type": "markdown",
      "metadata": {
        "id": "fbzrhE7Wx5GQ"
      },
      "source": [
        ""
      ]
    },
    {
      "cell_type": "markdown",
      "metadata": {
        "id": "joIlPQjx_c5C"
      },
      "source": [
        "#SVR"
      ]
    },
    {
      "cell_type": "code",
      "metadata": {
        "id": "D7U03OAD_cYs"
      },
      "source": [
        "from sklearn.svm import SVR \n",
        "from sklearn.preprocessing import StandardScaler\n",
        "import matplotlib.dates as mdates\n",
        "import tensorflow as tf\n",
        "\n"
      ],
      "execution_count": 96,
      "outputs": []
    },
    {
      "cell_type": "code",
      "metadata": {
        "id": "7QDy29Kddp81"
      },
      "source": [
        "def get_data(df):  \n",
        "    data = df.copy()\n",
        "\n",
        "    test = data.loc['2016-07-1':'2016-07-31'].resample('D').mean()\n",
        "    train = data.loc['2016-04-1': '2016-06-30'].resample('D').mean()\n",
        "\n",
        "    x_train = range(0, train.shape[0])\n",
        "    x_train = np.reshape(x_train,(len(x_train), 1))\n",
        "    y_train = train['PM25'].tolist()\n",
        "\n",
        "    x_test = range( train.shape[0],  train.shape[0]+test.shape[0])\n",
        "    x_test = np.reshape(x_test,(len(x_test), 1))\n",
        "    y_test = test['PM25'].tolist()\n",
        "\n",
        "\n",
        "    return [x_train, y_train, x_test, y_test] "
      ],
      "execution_count": 119,
      "outputs": []
    },
    {
      "cell_type": "code",
      "metadata": {
        "colab": {
          "base_uri": "https://localhost:8080/"
        },
        "id": "I2nSSBPMdqss",
        "outputId": "4f2f1675-1515-46a3-b3e7-705b9ff29c3a"
      },
      "source": [
        "x_train, y_train, x_test, y_test = get_data(df)\n",
        "\n",
        "print(x_train.shape, len(y_train))\n",
        "print(x_test.shape, len(y_test))\n"
      ],
      "execution_count": 147,
      "outputs": [
        {
          "output_type": "stream",
          "name": "stdout",
          "text": [
            "(91, 1) 91\n",
            "(31, 1) 31\n"
          ]
        }
      ]
    },
    {
      "cell_type": "code",
      "metadata": {
        "id": "jcFM-74-0uDT"
      },
      "source": [
        "def evaluate_model( predict, y_test):\n",
        "\n",
        "  rmse = tf.keras.metrics.RootMeanSquaredError()\n",
        "  rmse.update_state(y_test, predict)\n",
        "\n",
        "  mae = tf.keras.metrics.MeanAbsoluteError()\n",
        "  mae.update_state(y_test, predict)\n",
        "\n",
        "  mse = tf.keras.metrics.MeanSquaredError()\n",
        "  mse.update_state(y_test, predict)\n",
        "\n",
        "  #rmse_sent = math.sqrt(mean_squared_error(testY_inverse, simple_pred))\n",
        "  print ('Test MSE: %.3f' %  mse.result().numpy())\n",
        "  print ('Test RMSE: %.3f' % rmse.result().numpy())\n",
        "  print ('Test MAE: %.3f' %  mae.result().numpy())\n",
        "  print (\"\")"
      ],
      "execution_count": 121,
      "outputs": []
    },
    {
      "cell_type": "code",
      "metadata": {
        "id": "pZUIVip9EM9R"
      },
      "source": [
        "def predict_prices(x_train, y_train, x_test, y_test):\n",
        "    \n",
        "    svr_lin  = SVR(kernel='linear', C=1e3)\n",
        "    svr_poly = SVR(kernel='poly', C=1e3, degree=2)\n",
        "    svr_rbf = SVR(kernel='rbf', C=1e3, gamma=0.1)\n",
        "\n",
        "    # Fit regression model\n",
        "    svr_lin .fit(x_train, y_train)\n",
        "    svr_poly.fit(x_train, y_train)\n",
        "    svr_rbf.fit(x_train, y_train)\n",
        "\n",
        "    plt.scatter(x_train, y_train, c='k', label='Data')\n",
        "    plt.plot(x_train, svr_lin.predict(x_train), c='g', label='Linear model')\n",
        "    plt.plot(x_train, svr_rbf.predict(x_train), c='r', label='RBF model')    \n",
        "    plt.plot(x_train, svr_poly.predict(x_train), c='b', label='Polynomial model')\n",
        "    \n",
        "    \n",
        "    plt.xlabel('Date')\n",
        "    plt.ylabel('PM25')\n",
        "    plt.title('Support Vector Regression')\n",
        "    plt.legend()\n",
        "    plt.show()\n",
        "\n",
        "    print('SVR-RBF\\n')\n",
        "    rbf_predict = svr_rbf.predict(x_test)\n",
        "    evaluate_model(rbf_predict, y_test)\n",
        "\n",
        "    print('SVR-LIN\\n')\n",
        "    lin_predict = svr_lin.predict(x_test)\n",
        "    evaluate_model(lin_predict, y_test)\n",
        "\n",
        "    print('SVR-POLY\\n')\n",
        "    poly_predict = svr_poly.predict(x_test)\n",
        "    evaluate_model(poly_predict, y_test)\n",
        "\n",
        "    plt.scatter(x_test, y_test, c='y', label='Data test')\n",
        "    plt.plot(x_test, lin_predict, c='g', label='Linear model')\n",
        "    plt.plot(x_test, rbf_predict, c='r', label='RBF model')    \n",
        "    plt.plot(x_test, poly_predict, c='b', label='Polynomial model')\n",
        "    plt.xlabel('Date')\n",
        "    plt.ylabel('PM25')\n",
        "    plt.title('Support Vector Regression (Prediction)')\n",
        "    plt.legend()\n",
        "    plt.show()\n",
        "    \n"
      ],
      "execution_count": 111,
      "outputs": []
    },
    {
      "cell_type": "code",
      "metadata": {
        "colab": {
          "base_uri": "https://localhost:8080/",
          "height": 885
        },
        "id": "c6bQNKcweRUc",
        "outputId": "9a0349d8-3485-45b7-b632-9998cd7a81ff"
      },
      "source": [
        "predict_prices(x_train, y_train, x_test, y_test)"
      ],
      "execution_count": 122,
      "outputs": [
        {
          "output_type": "display_data",
          "data": {
            "image/png": "[encoded data removed]",
            "text/plain": [
              "<Figure size 432x288 with 1 Axes>"
            ]
          },
          "metadata": {
            "needs_background": "light"
          }
        },
        {
          "output_type": "stream",
          "name": "stdout",
          "text": [
            "SVR-RBF\n",
            "\n",
            "Test MSE: 494.804\n",
            "Test RMSE: 22.244\n",
            "Test MAE: 18.136\n",
            "\n",
            "SVR-LIN\n",
            "\n",
            "Test MSE: 503.422\n",
            "Test RMSE: 22.437\n",
            "Test MAE: 18.081\n",
            "\n",
            "SVR-POLY\n",
            "\n",
            "Test MSE: 878.163\n",
            "Test RMSE: 29.634\n",
            "Test MAE: 25.064\n",
            "\n"
          ]
        },
        {
          "output_type": "display_data",
          "data": {
            "image/png": "[encoded data removed]",
            "text/plain": [
              "<Figure size 432x288 with 1 Axes>"
            ]
          },
          "metadata": {
            "needs_background": "light"
          }
        }
      ]
    },
    {
      "cell_type": "code",
      "metadata": {
        "id": "IFtB-npd6y6z"
      },
      "source": [
        ""
      ],
      "execution_count": null,
      "outputs": []
    },
    {
      "cell_type": "markdown",
      "metadata": {
        "id": "O64zI8X36x9n"
      },
      "source": [
        "# Model con dataset perturbado"
      ]
    },
    {
      "cell_type": "code",
      "metadata": {
        "colab": {
          "base_uri": "https://localhost:8080/",
          "height": 310
        },
        "id": "KmceAnXj62xT",
        "outputId": "e682d33c-0931-4262-a4a1-09df296b9db7"
      },
      "source": [
        "copia_df = df.copy()\n",
        "copia_df = copia_df.reset_index()\n",
        "print(copia.head())\n",
        "\n",
        "data_p = perturbation(df=copia_df, col=1)\n",
        "\n",
        "data_p.head()\n",
        "\n"
      ],
      "execution_count": 144,
      "outputs": [
        {
          "output_type": "stream",
          "name": "stdout",
          "text": [
            "                 date    PM25\n",
            "0 2016-01-01 01:00:00  11.980\n",
            "1 2016-01-01 02:00:00   7.986\n",
            "2 2016-01-01 03:00:00   3.993\n",
            "3 2016-01-01 04:00:00   5.324\n",
            "4 2016-01-01 05:00:00   5.240\n"
          ]
        },
        {
          "output_type": "execute_result",
          "data": {
            "text/html": [
              "<div>\n",
              "<style scoped>\n",
              "    .dataframe tbody tr th:only-of-type {\n",
              "        vertical-align: middle;\n",
              "    }\n",
              "\n",
              "    .dataframe tbody tr th {\n",
              "        vertical-align: top;\n",
              "    }\n",
              "\n",
              "    .dataframe thead th {\n",
              "        text-align: right;\n",
              "    }\n",
              "</style>\n",
              "<table border=\"1\" class=\"dataframe\">\n",
              "  <thead>\n",
              "    <tr style=\"text-align: right;\">\n",
              "      <th></th>\n",
              "      <th>date</th>\n",
              "      <th>PM25</th>\n",
              "    </tr>\n",
              "  </thead>\n",
              "  <tbody>\n",
              "    <tr>\n",
              "      <th>0</th>\n",
              "      <td>2016-01-01 01:00:00</td>\n",
              "      <td>11.943208</td>\n",
              "    </tr>\n",
              "    <tr>\n",
              "      <th>1</th>\n",
              "      <td>2016-01-01 02:00:00</td>\n",
              "      <td>8.052539</td>\n",
              "    </tr>\n",
              "    <tr>\n",
              "      <th>2</th>\n",
              "      <td>2016-01-01 03:00:00</td>\n",
              "      <td>3.875268</td>\n",
              "    </tr>\n",
              "    <tr>\n",
              "      <th>3</th>\n",
              "      <td>2016-01-01 04:00:00</td>\n",
              "      <td>5.376938</td>\n",
              "    </tr>\n",
              "    <tr>\n",
              "      <th>4</th>\n",
              "      <td>2016-01-01 05:00:00</td>\n",
              "      <td>5.314990</td>\n",
              "    </tr>\n",
              "  </tbody>\n",
              "</table>\n",
              "</div>"
            ],
            "text/plain": [
              "                 date       PM25\n",
              "0 2016-01-01 01:00:00  11.943208\n",
              "1 2016-01-01 02:00:00   8.052539\n",
              "2 2016-01-01 03:00:00   3.875268\n",
              "3 2016-01-01 04:00:00   5.376938\n",
              "4 2016-01-01 05:00:00   5.314990"
            ]
          },
          "metadata": {},
          "execution_count": 144
        }
      ]
    },
    {
      "cell_type": "code",
      "metadata": {
        "colab": {
          "base_uri": "https://localhost:8080/"
        },
        "id": "vOIfkEmk9Enb",
        "outputId": "93ba0bb8-ff77-4b67-f4b5-7242875a6415"
      },
      "source": [
        "x_trainP, y_trainP, x_testP, y_testP = get_data(data_p.set_index('date'))\n",
        "\n",
        "print(x_trainP.shape, len(y_trainP))\n",
        "print(x_testP.shape, len(y_testP))\n",
        "\n"
      ],
      "execution_count": 148,
      "outputs": [
        {
          "output_type": "stream",
          "name": "stdout",
          "text": [
            "(91, 1) 91\n",
            "(31, 1) 31\n"
          ]
        }
      ]
    },
    {
      "cell_type": "code",
      "metadata": {
        "colab": {
          "base_uri": "https://localhost:8080/",
          "height": 885
        },
        "id": "UmsGhUjh9lhJ",
        "outputId": "9e8e471e-c0b6-4fc4-de67-ca741cd20b19"
      },
      "source": [
        "predict_prices(x_trainP, y_trainP, x_testP, y_testP)"
      ],
      "execution_count": 151,
      "outputs": [
        {
          "output_type": "display_data",
          "data": {
            "image/png": "[encoded data removed]",
            "text/plain": [
              "<Figure size 432x288 with 1 Axes>"
            ]
          },
          "metadata": {
            "needs_background": "light"
          }
        },
        {
          "output_type": "stream",
          "name": "stdout",
          "text": [
            "SVR-RBF\n",
            "\n",
            "Test MSE: 494.885\n",
            "Test RMSE: 22.246\n",
            "Test MAE: 18.137\n",
            "\n",
            "SVR-LIN\n",
            "\n",
            "Test MSE: 503.511\n",
            "Test RMSE: 22.439\n",
            "Test MAE: 18.086\n",
            "\n",
            "SVR-POLY\n",
            "\n",
            "Test MSE: 880.086\n",
            "Test RMSE: 29.666\n",
            "Test MAE: 25.091\n",
            "\n"
          ]
        },
        {
          "output_type": "display_data",
          "data": {
            "image/png": "[encoded data removed]",
            "text/plain": [
              "<Figure size 432x288 with 1 Axes>"
            ]
          },
          "metadata": {
            "needs_background": "light"
          }
        }
      ]
    }
  ]
}